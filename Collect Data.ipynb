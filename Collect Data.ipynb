{
 "cells": [
  {
   "cell_type": "code",
   "execution_count": null,
   "id": "36a0dcc1",
   "metadata": {},
   "outputs": [],
   "source": [
    "import cv2\n",
    "import urllib\n",
    "import numpy as np\n",
    "\n",
    "classifier = cv2.CascadeClassifier(r\"C:\\Users\\KIIT\\Desktop\\Face Detection\\Face Detection\\haarcascade_frontalface_default.xml\")\n",
    "\n",
    "url = \"http://100.93.225.239:8080/shot.jpg\"\n",
    "\n",
    "\n",
    "data = []\n",
    "\n",
    "while len(data) < 100:\n",
    "    \n",
    "    \n",
    "    image_from_url = urllib.request.urlopen(url)\n",
    "    frame = np.array(bytearray(image_from_url.read()),np.uint8)\n",
    "    frame = cv2.imdecode(frame,-1)\n",
    "    \n",
    "    face_points = classifier.detectMultiScale(frame,1.3,5)\n",
    "    \n",
    "    if len(face_points)>0:\n",
    "        for x,y,w,h in face_points:\n",
    "            face_frame = frame[y:y+h+1,x:x+w+1]\n",
    "            cv2.imshow(\"Only face\",face_frame)\n",
    "            if len(data)<=100:\n",
    "                print(len(data)+1,\"/100\")\n",
    "                data.append(face_frame)\n",
    "                break\n",
    "    cv2.putText(frame, str(len(data)),(100,100),cv2.FONT_HERSHEY_SIMPLEX,5,(0,0,255))\n",
    "    cv2.imshow(\"frame\",frame)\n",
    "    if cv2.waitKey(30) == ord(\"q\"):\n",
    "        break\n",
    "cv2.destroyAllWindows()\n",
    "        \n",
    "if len(data)== 100:\n",
    "    name = input(\"Enter Face holder name : \")\n",
    "    for i in range(100):\n",
    "        cv2.imwrite(\"images/\"+name+\"_\"+str(i)+\".jpg\",data[i])\n",
    "    print(\"Done\")\n",
    "else:\n",
    "    print(\"need more data\")"
   ]
  }
 ],
 "metadata": {
  "kernelspec": {
   "display_name": "Python 3 (ipykernel)",
   "language": "python",
   "name": "python3"
  },
  "language_info": {
   "codemirror_mode": {
    "name": "ipython",
    "version": 3
   },
   "file_extension": ".py",
   "mimetype": "text/x-python",
   "name": "python",
   "nbconvert_exporter": "python",
   "pygments_lexer": "ipython3",
   "version": "3.10.9"
  }
 },
 "nbformat": 4,
 "nbformat_minor": 5
}
