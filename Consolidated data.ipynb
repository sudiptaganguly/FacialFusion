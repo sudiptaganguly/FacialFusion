{
 "cells": [
  {
   "cell_type": "code",
   "execution_count": null,
   "id": "e2eb8728",
   "metadata": {},
   "outputs": [],
   "source": [
    "import cv2\n",
    "import os\n",
    "import pickle\n",
    "import numpy as np\n",
    "\n",
    "data_dir = os.path.join(os.getcwd(),'clean_data')\n",
    "img_dir = os.path.join(os.getcwd(),'images')\n",
    "\n",
    "os.getcwd()\n",
    "\n",
    "image_data = []\n",
    "labels = []\n",
    "\n",
    "for i in os.listdir(img_dir):\n",
    "    image = cv2.imread(os.path.join(img_dir,i))\n",
    "    image = cv2.resize(image,(100,100))\n",
    "    image = cv2.cvtColor(image,cv2.COLOR_BGR2GRAY)\n",
    "    image_data.append(image)\n",
    "    labels.append(str(i).split(\"_\")[0])\n",
    "    \n",
    "image_data = np.array(image_data)    \n",
    "labels = np.array(labels) \n",
    "\n",
    "print(image_data)\n",
    "print(labels)\n",
    "\n",
    "import matplotlib.pyplot as plt\n",
    "plt.imshow(image_data[labels=='Suhank'][50],cmap=\"gray\")\n",
    "plt.show()\n",
    "\n",
    "\n",
    "with open(os.path.join(data_dir,\"images2.p\"),'wb') as f:\n",
    "    pickle.dump(image_data,f)\n",
    "    \n",
    "with open(os.path.join(data_dir,\"labels2.p\"),'wb') as f:\n",
    "    pickle.dump(labels,f)"
   ]
  }
 ],
 "metadata": {
  "kernelspec": {
   "display_name": "Python 3 (ipykernel)",
   "language": "python",
   "name": "python3"
  },
  "language_info": {
   "codemirror_mode": {
    "name": "ipython",
    "version": 3
   },
   "file_extension": ".py",
   "mimetype": "text/x-python",
   "name": "python",
   "nbconvert_exporter": "python",
   "pygments_lexer": "ipython3",
   "version": "3.10.9"
  }
 },
 "nbformat": 4,
 "nbformat_minor": 5
}
