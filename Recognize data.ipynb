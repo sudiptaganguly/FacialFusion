{
 "cells": [
  {
   "cell_type": "code",
   "execution_count": null,
   "id": "db40415f",
   "metadata": {},
   "outputs": [],
   "source": [
    "import urllib\n",
    "import cv2\n",
    "import numpy as np\n",
    "from keras.models import load_model\n",
    "\n",
    "classifier = cv2.CascadeClassifier(r\"C:\\Users\\KIIT\\Desktop\\Face Detection\\Face Detection\\haarcascade_frontalface_default.xml\")\n",
    "\n",
    "model = load_model(r\"C:\\Users\\KIIT\\Desktop\\Face Detection\\Face Detection\\final_model (1).h5\")\n",
    "URL = \"http://100.93.225.239:8080/shot.jpg\"\n",
    "\n",
    "def get_pred_label(pred):\n",
    "    labels = ['Aditya', 'Daryl', 'Kalinga', 'Srustika', 'Suhank']\n",
    "    return labels[pred]\n",
    "\n",
    "def preprocess(img):\n",
    "    img = cv2.cvtColor(img,cv2.COLOR_BGR2GRAY)\n",
    "    img = cv2.resize(img,(100,100))\n",
    "    img = cv2.equalizeHist(img)\n",
    "    img = img.reshape(1,100,100,1)\n",
    "    img = img/255\n",
    "    return img\n",
    "    \n",
    "\n",
    "\n",
    "ret = True\n",
    "while ret:\n",
    "    \n",
    "    img_url = urllib.request.urlopen(URL)\n",
    "    image = np.array(bytearray(img_url.read()),np.uint8)\n",
    "    frame = cv2.imdecode(image,-1)\n",
    "    \n",
    "    faces = classifier.detectMultiScale(frame,1.5,5)\n",
    "      \n",
    "    for x,y,w,h in faces:\n",
    "        face = frame[y:y+h,x:x+w]\n",
    "        cv2.rectangle(frame,(x,y),(x+w,y+h),(255,0,0),5)\n",
    "        cv2.putText(frame,get_pred_label(np.argmax(model.predict(preprocess(face)))),\n",
    "                    (200,200),cv2.FONT_HERSHEY_COMPLEX,1,\n",
    "                    (255,0,0),2)\n",
    "        \n",
    "    cv2.imshow(\"capture\",frame)\n",
    "    if cv2.waitKey(1)==ord('q'):\n",
    "        break\n",
    "\n",
    "cv2.destroyAllWindows()"
   ]
  }
 ],
 "metadata": {
  "kernelspec": {
   "display_name": "Python 3 (ipykernel)",
   "language": "python",
   "name": "python3"
  },
  "language_info": {
   "codemirror_mode": {
    "name": "ipython",
    "version": 3
   },
   "file_extension": ".py",
   "mimetype": "text/x-python",
   "name": "python",
   "nbconvert_exporter": "python",
   "pygments_lexer": "ipython3",
   "version": "3.10.9"
  }
 },
 "nbformat": 4,
 "nbformat_minor": 5
}
